{
  "nbformat": 4,
  "nbformat_minor": 0,
  "metadata": {
    "colab": {
      "provenance": [],
      "gpuType": "T4"
    },
    "kernelspec": {
      "name": "python3",
      "display_name": "Python 3"
    },
    "language_info": {
      "name": "python"
    },
    "accelerator": "GPU"
  },
  "cells": [
    {
      "cell_type": "code",
      "execution_count": null,
      "metadata": {
        "id": "Us8SdBRXCeLE"
      },
      "outputs": [],
      "source": [
        "# chat with multiple pdfs using llama 2+Pinecone+Langchain"
      ]
    },
    {
      "cell_type": "code",
      "source": [
        "#install required libraries"
      ],
      "metadata": {
        "id": "iuc1HIwCDD6v"
      },
      "execution_count": null,
      "outputs": []
    },
    {
      "cell_type": "code",
      "source": [
        "!pip install Langchain\n",
        "!pip install pincone-client\n",
        "!pip install sentence-transformers\n",
        "!pip install pdf2image\n",
        "!pip install pypdf\n",
        "!pip install xformers\n",
        "!pip install bitstandbytes accelerates transformers\n"
      ],
      "metadata": {
        "id": "Bkx__HvbDD9F"
      },
      "execution_count": null,
      "outputs": []
    },
    {
      "cell_type": "code",
      "source": [
        "# import required all important library"
      ],
      "metadata": {
        "id": "Aac051fuDD_d"
      },
      "execution_count": null,
      "outputs": []
    },
    {
      "cell_type": "code",
      "source": [
        "from langchain.document_loaders import PyPDFDirectoryLoader\n",
        "from langchain.text_splitter import RecursiveCharacterSplitter\n",
        "from langchain.embeddings import HuggingFaceEmbeddings\n",
        "from langchain.vectorstores import Pinecone\n",
        "import pinecone\n",
        "from transformers import AutoTokenizer,AutoModelForCausalLM\n",
        "from transformers import pipeline\n",
        "import os\n",
        "import sys\n"
      ],
      "metadata": {
        "id": "dmtME-IyDECC"
      },
      "execution_count": null,
      "outputs": []
    },
    {
      "cell_type": "code",
      "source": [
        "# load the pdfs files"
      ],
      "metadata": {
        "id": "on_ccODfDEEm"
      },
      "execution_count": null,
      "outputs": []
    },
    {
      "cell_type": "code",
      "source": [
        "!mkdirs pdfs"
      ],
      "metadata": {
        "id": "GZ60HHvkDEIP"
      },
      "execution_count": null,
      "outputs": []
    },
    {
      "cell_type": "code",
      "source": [
        "\n",
        "!gdown 1hPQlXrX8FbaYaLypxTmeVOFNitbBMlEE -O pdfs/yolov7paper.pdf\n",
        "!gdown 1vILwiv6nS2wI3chxNabMgry3qnV67TxM -O pdfs/rachelgreecv.pdf"
      ],
      "metadata": {
        "id": "obsPQ5y1DELY"
      },
      "execution_count": null,
      "outputs": []
    },
    {
      "cell_type": "code",
      "source": [
        "# extract text from the PDF'S\n"
      ],
      "metadata": {
        "id": "_fVDZP_QDEoy"
      },
      "execution_count": null,
      "outputs": []
    },
    {
      "cell_type": "code",
      "source": [
        "loader=PyPDFDirectoryLoader(\"pdfs\")"
      ],
      "metadata": {
        "id": "bBw2nKSFDErZ"
      },
      "execution_count": null,
      "outputs": []
    },
    {
      "cell_type": "code",
      "source": [
        "print(data)"
      ],
      "metadata": {
        "id": "Bvkk5RTPDEtl"
      },
      "execution_count": null,
      "outputs": []
    },
    {
      "cell_type": "code",
      "source": [
        "# split data into extracted data into text chunks"
      ],
      "metadata": {
        "id": "hpwWjN0gDEwZ"
      },
      "execution_count": null,
      "outputs": []
    },
    {
      "cell_type": "code",
      "source": [
        "text_splitter=RecursiveCharacterTextSplitter(chunk_size=500,chunk_overlap=20)"
      ],
      "metadata": {
        "id": "Mjg_G2FoDEzB"
      },
      "execution_count": null,
      "outputs": []
    },
    {
      "cell_type": "code",
      "source": [
        "docs=text_splitter.split_document(data)\n"
      ],
      "metadata": {
        "id": "9NPFrsh5DE11"
      },
      "execution_count": null,
      "outputs": []
    },
    {
      "cell_type": "code",
      "source": [
        "print(len(docs))\n"
      ],
      "metadata": {
        "id": "m7DIcTuGDE4W"
      },
      "execution_count": null,
      "outputs": []
    },
    {
      "cell_type": "code",
      "source": [
        "docs[3]"
      ],
      "metadata": {
        "id": "6wKdm3NxDE66"
      },
      "execution_count": null,
      "outputs": []
    },
    {
      "cell_type": "code",
      "source": [
        "docs[4]"
      ],
      "metadata": {
        "id": "a1LHGIKZDE9e"
      },
      "execution_count": null,
      "outputs": []
    },
    {
      "cell_type": "code",
      "source": [
        "# download the embeddings from the huggingface"
      ],
      "metadata": {
        "id": "TKRbiUUhGFdo"
      },
      "execution_count": null,
      "outputs": []
    },
    {
      "cell_type": "code",
      "source": [
        "embeddings=HuggingFaceEmbeddings(model_name='sentence-transformers/all-MiniLM-L6-v2')"
      ],
      "metadata": {
        "id": "4Yu0VxWVGFgD"
      },
      "execution_count": null,
      "outputs": []
    },
    {
      "cell_type": "code",
      "source": [
        "query_results=embeddings.embed_query(\"Hellow-world\")\n",
        "Print(len(query_results))\n"
      ],
      "metadata": {
        "id": "J-pe-NyCGFiY"
      },
      "execution_count": null,
      "outputs": []
    },
    {
      "cell_type": "code",
      "source": [
        "# intializing the pinecone"
      ],
      "metadata": {
        "id": "sKM-xxPQG1BF"
      },
      "execution_count": null,
      "outputs": []
    },
    {
      "cell_type": "code",
      "source": [
        "PINECONE_API_KEY=os.environ.get('PINECONE_API_KEY','XXXXXXXXXXXXX')\n",
        "PINECONE_API_ENV=os.environ.get('PINECONE_API_ENV','XXXXXXXXXXXXX')\n"
      ],
      "metadata": {
        "id": "mQVQsPrKG1DY"
      },
      "execution_count": null,
      "outputs": []
    },
    {
      "cell_type": "code",
      "source": [
        "# initialize the pinecone\n",
        "pinecone.init(\n",
        "    api_key=PINECONE_API_KEY,\n",
        "    environment=PINECONE_API_ENV,\n",
        "\n",
        ")"
      ],
      "metadata": {
        "id": "lI5HBbUOG1FE"
      },
      "execution_count": null,
      "outputs": []
    },
    {
      "cell_type": "code",
      "source": [
        "index_name=\"langchainpinecone\""
      ],
      "metadata": {
        "id": "XAeArObjG1HO"
      },
      "execution_count": null,
      "outputs": []
    },
    {
      "cell_type": "code",
      "source": [
        "# crate embeddings for the each of text chunks\n",
        "docssearch=Pinecone.from_texts([t.page_content for t in docs],embeddings,index_name=index_name)"
      ],
      "metadata": {
        "id": "32B-kSFcG1LB"
      },
      "execution_count": null,
      "outputs": []
    },
    {
      "cell_type": "code",
      "source": [
        "# if already having the index, can be loaded\n",
        "# docsearch=Pinecone.from_existing_index(index_name,embeddings)"
      ],
      "metadata": {
        "id": "uP0lz7O0G1Ng"
      },
      "execution_count": null,
      "outputs": []
    },
    {
      "cell_type": "code",
      "source": [
        "# similaririty search"
      ],
      "metadata": {
        "id": "esVEbFAFG1Ps"
      },
      "execution_count": null,
      "outputs": []
    },
    {
      "cell_type": "code",
      "source": [
        "query=\"YOLOv7 outperforms which models\"\n"
      ],
      "metadata": {
        "id": "o5S7-x41G1SE"
      },
      "execution_count": null,
      "outputs": []
    },
    {
      "cell_type": "code",
      "source": [
        "docs = docssearch.similarity_search(query,k=4)\n",
        "docs"
      ],
      "metadata": {
        "id": "pCvGp6OEGFkL"
      },
      "execution_count": null,
      "outputs": []
    },
    {
      "cell_type": "code",
      "source": [
        "# creating a llama2 model model wrapper"
      ],
      "metadata": {
        "id": "uMUtEMIaGFmk"
      },
      "execution_count": null,
      "outputs": []
    },
    {
      "cell_type": "code",
      "source": [
        "from huggingface_hub import notebook_login"
      ],
      "metadata": {
        "id": "2tqxDs1NGFo2"
      },
      "execution_count": null,
      "outputs": []
    },
    {
      "cell_type": "code",
      "source": [
        "notebook_login()"
      ],
      "metadata": {
        "id": "7zQtsKeKGFqz"
      },
      "execution_count": null,
      "outputs": []
    },
    {
      "cell_type": "code",
      "source": [
        "tokenizer = AutoTokenizer.from_pretrained(\"meta-llama/Llama-2-7b-chat-hf\",use_auth_token=True)\n"
      ],
      "metadata": {
        "id": "TWdKGEULGFtX"
      },
      "execution_count": null,
      "outputs": []
    },
    {
      "cell_type": "code",
      "source": [
        "model=AutomodelForCausalLM.from_pretrained(\"meta-llama/Llama-2-7b-chat-hf\",\n",
        "                                           device_map='auto',\n",
        "                                           torch_dtype=torch.flaot16,\n",
        "                                           use_auth_token=True,\n",
        "                                           load_in_bit=True)\n"
      ],
      "metadata": {
        "id": "LmG_utGbGFv5"
      },
      "execution_count": null,
      "outputs": []
    },
    {
      "cell_type": "code",
      "source": [
        "pipe=pipeline(\"text-generations\",\n",
        "              model=model,\n",
        "              tokenizer=tokenizer,\n",
        "              torch_dtype=torch.bfloat16,\n",
        "              device_map=\"auto\",\n",
        "              max_new_tokens=512,\n",
        "              do_sample=True,\n",
        "              top_k=30,\n",
        "              num_return_sequences=1,\n",
        "              eos_token_id=tokenizer.eos_token_id)\n"
      ],
      "metadata": {
        "id": "AdVWEPprGFyf"
      },
      "execution_count": null,
      "outputs": []
    },
    {
      "cell_type": "code",
      "source": [
        "llm=HuggingFacePipeline(pipeline=pipe,model_kwargs={'temperature':0.1})\n"
      ],
      "metadata": {
        "id": "HJ4LJhkyGF02"
      },
      "execution_count": null,
      "outputs": []
    },
    {
      "cell_type": "code",
      "source": [
        "# crete a prompt templates\n",
        "SYSTEM_PROMPTS = \"\"\"use the following pieces of context to answer the question at the end.\n",
        "                    if you dont know the answer,just say that you don't know,dont try to makeup answer.\n",
        "                 \"\"\""
      ],
      "metadata": {
        "id": "V1VQXEv7GF3N"
      },
      "execution_count": null,
      "outputs": []
    },
    {
      "cell_type": "code",
      "source": [
        "B_INST,E_INST = '[INST]','[/INST]'\n",
        "B_SYS,E_SYS = '<>\\n',\"\\n<>\\n\\n\""
      ],
      "metadata": {
        "id": "Q4HdNwwRNZZB"
      },
      "execution_count": null,
      "outputs": []
    },
    {
      "cell_type": "code",
      "source": [
        "SYSTEM_PROMPT = B_SYS + SYSTEM_PROMPT + E_SYS"
      ],
      "metadata": {
        "id": "SKVkmVoiNZbT"
      },
      "execution_count": null,
      "outputs": []
    },
    {
      "cell_type": "code",
      "source": [
        "instruction=\"\"\"\n",
        "              {context}\n",
        "              Question:{question}\n",
        "            \"\"\"\n",
        ""
      ],
      "metadata": {
        "id": "oKu_m2b8NZdr"
      },
      "execution_count": null,
      "outputs": []
    },
    {
      "cell_type": "code",
      "source": [
        "template = B_INST + SYSTEM_PROMPT + instruction + E_INST"
      ],
      "metadata": {
        "id": "m29mVrmDNZga"
      },
      "execution_count": null,
      "outputs": []
    },
    {
      "cell_type": "code",
      "source": [
        "templates"
      ],
      "metadata": {
        "id": "TvSnwDeyNZi8"
      },
      "execution_count": null,
      "outputs": []
    },
    {
      "cell_type": "code",
      "source": [
        "prompt=PromptTemplate(template=template,input_varible=[\"context\",\"questions\"])"
      ],
      "metadata": {
        "id": "nvBKXAxYNZmq"
      },
      "execution_count": null,
      "outputs": []
    },
    {
      "cell_type": "code",
      "source": [
        "qa_chain=RetrievalQA.from_chain_type(\n",
        "    llm=llm,\n",
        "    chain_type=\"stuffs\",\n",
        "    retriever=docsearch.as_retriever(search_kwargs={\"k\":2}),\n",
        "    return_source_documents=True,\n",
        "    chain_type_kwargs={\"prompt\":prompt},\n",
        ")"
      ],
      "metadata": {
        "id": "7ksxGrwNGF5q"
      },
      "execution_count": null,
      "outputs": []
    },
    {
      "cell_type": "code",
      "source": [
        "result=qa_chain(\"YOLO7 IS USED FOR?\")\n"
      ],
      "metadata": {
        "id": "XkQuyHG0GF9F"
      },
      "execution_count": null,
      "outputs": []
    },
    {
      "cell_type": "code",
      "source": [
        "result['result']"
      ],
      "metadata": {
        "id": "z6eRXVTFQnC3"
      },
      "execution_count": null,
      "outputs": []
    },
    {
      "cell_type": "code",
      "source": [
        "while True:\n",
        "  user_input=input(f\"prompts:\")\n",
        "  if user_input=='exit':\n",
        "    print(\"existing\")\n",
        "    sys.exit()\n",
        "  if user_input=='':\n",
        "    continue\n",
        "  result=qa_chain({'query':user_input})\n",
        "  print(f\"Answer:{result['result']}\")"
      ],
      "metadata": {
        "id": "y2iFXFM2QnGT"
      },
      "execution_count": null,
      "outputs": []
    }
  ]
}
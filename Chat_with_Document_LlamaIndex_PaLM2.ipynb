{
  "nbformat": 4,
  "nbformat_minor": 0,
  "metadata": {
    "colab": {
      "provenance": []
    },
    "kernelspec": {
      "name": "python3",
      "display_name": "Python 3"
    },
    "language_info": {
      "name": "python"
    }
  },
  "cells": [
    {
      "cell_type": "code",
      "execution_count": null,
      "metadata": {
        "id": "tXVNUQ6lU90j"
      },
      "outputs": [],
      "source": [
        "# install required all library"
      ]
    },
    {
      "cell_type": "code",
      "source": [
        "!pip install -q llama-index\n",
        "!pip install pypdf\n",
        "!pip install google-generative-ai\n",
        "!pip install transformers\n",
        "# # pip install llama-cpp-python"
      ],
      "metadata": {
        "id": "1G5ae9XGVIyY"
      },
      "execution_count": null,
      "outputs": []
    },
    {
      "cell_type": "code",
      "source": [
        "# import required library"
      ],
      "metadata": {
        "id": "ekFwtIZ0VI0p"
      },
      "execution_count": null,
      "outputs": []
    },
    {
      "cell_type": "code",
      "source": [
        "from llama_index import SimpleDirectoryReader,VectorStoreIndex\n",
        "from llama_index.llms.palm import PaLM\n",
        "from IPython.display import Markdown,display\n",
        "from llama_index import ServiceContent\n",
        "from llama_index import StoreContext,load_index_from_storage\n",
        "import os"
      ],
      "metadata": {
        "id": "wcDhVMfRVI2_"
      },
      "execution_count": null,
      "outputs": []
    },
    {
      "cell_type": "code",
      "source": [
        "# load the pdf files and extract the data from the pdf file"
      ],
      "metadata": {
        "id": "jaMcY_DvVI5z"
      },
      "execution_count": null,
      "outputs": []
    },
    {
      "cell_type": "code",
      "source": [
        "!mkdir pdfs"
      ],
      "metadata": {
        "id": "xZHJjNKQVI8p"
      },
      "execution_count": null,
      "outputs": []
    },
    {
      "cell_type": "code",
      "source": [
        "documents=SimpleDirectory(\"data\").load_data()\n"
      ],
      "metadata": {
        "id": "u_-YrXUaVI__"
      },
      "execution_count": null,
      "outputs": []
    },
    {
      "cell_type": "code",
      "source": [
        "print(document)"
      ],
      "metadata": {
        "id": "miWY4J63XIxg"
      },
      "execution_count": null,
      "outputs": []
    },
    {
      "cell_type": "code",
      "source": [
        "# split the text into small chuncks and crate embeddings for each of the text chunk\n"
      ],
      "metadata": {
        "id": "TTfDOAN4XIyv"
      },
      "execution_count": null,
      "outputs": []
    },
    {
      "cell_type": "code",
      "source": [
        "os.environ['GOOGLE_API_KEY']='XXXXXXXXXXXXXXXXXXXXXXXX'\n"
      ],
      "metadata": {
        "id": "eYW35n9WXI2m"
      },
      "execution_count": null,
      "outputs": []
    },
    {
      "cell_type": "code",
      "source": [
        "llm=PalM()"
      ],
      "metadata": {
        "id": "ID6sZ7CmXI63"
      },
      "execution_count": null,
      "outputs": []
    },
    {
      "cell_type": "code",
      "source": [
        "# configure service context\n",
        "service_context=ServiceContext.from_defaults(llm=llm,chunk_size=800,chunk_overlap=200)\n"
      ],
      "metadata": {
        "id": "3SwjzWbAXI88"
      },
      "execution_count": null,
      "outputs": []
    },
    {
      "cell_type": "code",
      "source": [
        "index.storge_context.persists()\n"
      ],
      "metadata": {
        "id": "YTDXiZA1XI_M"
      },
      "execution_count": null,
      "outputs": []
    },
    {
      "cell_type": "code",
      "source": [
        "# loading the index\n",
        "# storage_context=StorageContext.from_defaults(persist_dir='./storage)\n",
        "# index=load_index_from_storage(storage_context=storage_content)\n"
      ],
      "metadata": {
        "id": "5TzzUKCrXJBD"
      },
      "execution_count": null,
      "outputs": []
    },
    {
      "cell_type": "code",
      "source": [
        "# Q/A"
      ],
      "metadata": {
        "id": "UyzfJqtXXJDK"
      },
      "execution_count": null,
      "outputs": []
    },
    {
      "cell_type": "code",
      "source": [
        "query_engine=index.as_query_engine()\n",
        "response=query_engine.query('YOLOv7')\n"
      ],
      "metadata": {
        "id": "N_jpkvhWXJFP"
      },
      "execution_count": null,
      "outputs": []
    },
    {
      "cell_type": "code",
      "source": [
        "display(MakrDown(f\"{response}\"))\n"
      ],
      "metadata": {
        "id": "3ubxbkTCXJH0"
      },
      "execution_count": null,
      "outputs": []
    },
    {
      "cell_type": "code",
      "source": [],
      "metadata": {
        "id": "VBbLJt1wXJLm"
      },
      "execution_count": null,
      "outputs": []
    },
    {
      "cell_type": "code",
      "source": [],
      "metadata": {
        "id": "Ck-PsLzrXJNu"
      },
      "execution_count": null,
      "outputs": []
    },
    {
      "cell_type": "code",
      "source": [],
      "metadata": {
        "id": "aWPJUCgBXJQD"
      },
      "execution_count": null,
      "outputs": []
    },
    {
      "cell_type": "code",
      "source": [],
      "metadata": {
        "id": "FvS2cuFxXJSH"
      },
      "execution_count": null,
      "outputs": []
    },
    {
      "cell_type": "code",
      "source": [],
      "metadata": {
        "id": "jjfBj0QdXJUO"
      },
      "execution_count": null,
      "outputs": []
    },
    {
      "cell_type": "code",
      "source": [],
      "metadata": {
        "id": "dEy-Qr5GXJV5"
      },
      "execution_count": null,
      "outputs": []
    },
    {
      "cell_type": "code",
      "source": [],
      "metadata": {
        "id": "S4BCQY56XJX_"
      },
      "execution_count": null,
      "outputs": []
    },
    {
      "cell_type": "code",
      "source": [],
      "metadata": {
        "id": "NVZNxMEsXJaF"
      },
      "execution_count": null,
      "outputs": []
    },
    {
      "cell_type": "code",
      "source": [],
      "metadata": {
        "id": "8j5Hw8NuXJcS"
      },
      "execution_count": null,
      "outputs": []
    },
    {
      "cell_type": "code",
      "source": [],
      "metadata": {
        "id": "nR6LOy2hXJey"
      },
      "execution_count": null,
      "outputs": []
    },
    {
      "cell_type": "code",
      "source": [],
      "metadata": {
        "id": "wZ6cMczLXJg9"
      },
      "execution_count": null,
      "outputs": []
    },
    {
      "cell_type": "code",
      "source": [],
      "metadata": {
        "id": "WqciRu8xXJja"
      },
      "execution_count": null,
      "outputs": []
    },
    {
      "cell_type": "code",
      "source": [],
      "metadata": {
        "id": "I4la6wKxXJke"
      },
      "execution_count": null,
      "outputs": []
    },
    {
      "cell_type": "code",
      "source": [],
      "metadata": {
        "id": "7G864HDcXJpv"
      },
      "execution_count": null,
      "outputs": []
    },
    {
      "cell_type": "code",
      "source": [],
      "metadata": {
        "id": "Cf3dYCyAXJr3"
      },
      "execution_count": null,
      "outputs": []
    },
    {
      "cell_type": "code",
      "source": [],
      "metadata": {
        "id": "9hIw78eNXJuI"
      },
      "execution_count": null,
      "outputs": []
    },
    {
      "cell_type": "code",
      "source": [],
      "metadata": {
        "id": "LNfwrmMiXJwh"
      },
      "execution_count": null,
      "outputs": []
    },
    {
      "cell_type": "code",
      "source": [],
      "metadata": {
        "id": "saC9vEZtXJz2"
      },
      "execution_count": null,
      "outputs": []
    }
  ]
}
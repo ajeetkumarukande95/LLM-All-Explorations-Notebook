{
  "nbformat": 4,
  "nbformat_minor": 0,
  "metadata": {
    "colab": {
      "provenance": []
    },
    "kernelspec": {
      "name": "python3",
      "display_name": "Python 3"
    },
    "language_info": {
      "name": "python"
    }
  },
  "cells": [
    {
      "cell_type": "code",
      "execution_count": null,
      "metadata": {
        "id": "Vdv7JrmxdmMG"
      },
      "outputs": [],
      "source": [
        "! pip install langchain\n",
        "! pip install ctransformers\n",
        "! pip install sentence-transformers\n",
        "! pip install faiss-cpu"
      ]
    },
    {
      "cell_type": "code",
      "source": [
        "from langchain.document_loaders.csv_loader import CSVLoader\n",
        "from langchain.text_splitter import RecursiveCharacterTextSplitter\n",
        "from langchain.embeddings import HuggingFaceEmbeddings\n",
        "from langchain.vectorstores import FAISS\n",
        "from lanchain.llms import Ctransformers\n",
        "from langchain.chains import CoversationBufferMemory\n",
        "from langchain.chains import ConversionalRetrivalChain\n",
        "import sys\n"
      ],
      "metadata": {
        "id": "I5bA9AMAdodi"
      },
      "execution_count": null,
      "outputs": []
    },
    {
      "cell_type": "code",
      "source": [
        "DB_FAISS_PATH='vectorstore/db_faiss'\n",
        "loader=CSVLoader(file_path=\"data/2019.csv\",encoding='utf-8',csv_args={'delimiter':','})\n",
        "data=loader.load()"
      ],
      "metadata": {
        "id": "i84Woyyqdof-"
      },
      "execution_count": null,
      "outputs": []
    },
    {
      "cell_type": "code",
      "source": [
        "print(data)"
      ],
      "metadata": {
        "id": "1HWlN4IWdoiL"
      },
      "execution_count": null,
      "outputs": []
    },
    {
      "cell_type": "code",
      "source": [
        "# split the text into chunks"
      ],
      "metadata": {
        "id": "r0me-ROtdokm"
      },
      "execution_count": null,
      "outputs": []
    },
    {
      "cell_type": "code",
      "source": [
        "text_splitter = RecursiveCharacterTextSplitter(chunk_size=500,chunk_overlap=20)\n"
      ],
      "metadata": {
        "id": "L__AMHlgdomu"
      },
      "execution_count": null,
      "outputs": []
    },
    {
      "cell_type": "code",
      "source": [
        "text_chunks=text_splitter.split_documents(data)\n"
      ],
      "metadata": {
        "id": "4Jg1AO_7dopN"
      },
      "execution_count": null,
      "outputs": []
    },
    {
      "cell_type": "code",
      "source": [
        "print(len(text_chunks))"
      ],
      "metadata": {
        "id": "bqkTT_0KhcXa"
      },
      "execution_count": null,
      "outputs": []
    },
    {
      "cell_type": "code",
      "source": [
        "# download sentence transformers import Embedding from the hugging face"
      ],
      "metadata": {
        "id": "7JFZILMbhcZm"
      },
      "execution_count": null,
      "outputs": []
    },
    {
      "cell_type": "code",
      "source": [
        "embeddings=HuggingFaceEmbeddings(model_name='sentence-transformers/all-MiniLM-L6-v2')\n"
      ],
      "metadata": {
        "id": "yrk8gSVGhcbs"
      },
      "execution_count": null,
      "outputs": []
    },
    {
      "cell_type": "code",
      "source": [
        "# converting the text chunks into embeddings  and savings the embeddings into FAISS Knowledge Base"
      ],
      "metadata": {
        "id": "OLChqgYjhcd_"
      },
      "execution_count": null,
      "outputs": []
    },
    {
      "cell_type": "code",
      "source": [
        "docsearch =FAISS.from_document(text_chunks,embeddings)\n"
      ],
      "metadata": {
        "id": "wd0xYTmchcg3"
      },
      "execution_count": null,
      "outputs": []
    },
    {
      "cell_type": "code",
      "source": [
        "# query = \"What is the value of GDP per capita of Finland provided in the data?\"\n"
      ],
      "metadata": {
        "id": "sn0vHJ9thcja"
      },
      "execution_count": null,
      "outputs": []
    },
    {
      "cell_type": "code",
      "source": [
        "docs=docsearch.similarity_search(query,k=3)\n"
      ],
      "metadata": {
        "id": "dbtW9aqRhcm-"
      },
      "execution_count": null,
      "outputs": []
    },
    {
      "cell_type": "code",
      "source": [
        "print(\"Results\",docs)"
      ],
      "metadata": {
        "id": "uQ-jyMdhjOap"
      },
      "execution_count": null,
      "outputs": []
    },
    {
      "cell_type": "code",
      "source": [
        "llm=Ctransformers(model=\"models/llama-2-7b-chat.ggmlv3.q4_0.bin\",\n",
        "                  model_type'llama',\n",
        "                  max_new_tokens=512,\n",
        "                  temperature=0.1)"
      ],
      "metadata": {
        "id": "0zYOfZ62jOdH"
      },
      "execution_count": null,
      "outputs": []
    },
    {
      "cell_type": "code",
      "source": [
        "qa=ConversationalRetrivalChain.from_llm(llm,retriver=docsearch.as_retriver())\n"
      ],
      "metadata": {
        "id": "B29W99VOjOfq"
      },
      "execution_count": null,
      "outputs": []
    },
    {
      "cell_type": "code",
      "source": [
        "while True:\n",
        "  chat_history =[]\n",
        "  query=input(f'Input Prompt:')\n",
        "  if query == exit:\n",
        "    print('Exiting')\n",
        "    sys.exit()\n",
        "  if query == '':\n",
        "    continue\n",
        "  result = qa({\"question\":query,\"chat_history\":chat_history})\n",
        "  print(\"Response:\",result['answer'])\n",
        ""
      ],
      "metadata": {
        "id": "c8YXvp5CjOiL"
      },
      "execution_count": null,
      "outputs": []
    },
    {
      "cell_type": "code",
      "source": [],
      "metadata": {
        "id": "nL-VDtzUjOlA"
      },
      "execution_count": null,
      "outputs": []
    },
    {
      "cell_type": "code",
      "source": [],
      "metadata": {
        "id": "xfGn_iK3jOnl"
      },
      "execution_count": null,
      "outputs": []
    },
    {
      "cell_type": "code",
      "source": [],
      "metadata": {
        "id": "FjNaRFeAjOrI"
      },
      "execution_count": null,
      "outputs": []
    }
  ]
}